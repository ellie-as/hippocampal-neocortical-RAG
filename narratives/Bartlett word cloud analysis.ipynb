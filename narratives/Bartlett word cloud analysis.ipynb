{
 "cells": [
  {
   "cell_type": "markdown",
   "id": "f73d01e6-8dd6-4d17-93ad-917ed84863ad",
   "metadata": {},
   "source": [
    "### Analysis and visualisation of Bartlett results\n",
    "\n",
    "* Plot wordclouds of semantic intrusions in the recalled story\n",
    "* Explore effect of temperature"
   ]
  },
  {
   "cell_type": "markdown",
   "id": "6f0fbefb-894c-4adc-a501-dfd87e0bd70b",
   "metadata": {},
   "source": [
    "#### Imports:"
   ]
  },
  {
   "cell_type": "code",
   "execution_count": null,
   "id": "97d2077f-57d7-40fd-823f-1dc4107162a4",
   "metadata": {},
   "outputs": [],
   "source": [
    "import glob\n",
    "import pickle\n",
    "import matplotlib.pyplot as plt\n",
    "from wordcloud import WordCloud\n",
    "import string as stringp\n",
    "import os\n",
    "import pickle\n",
    "import pandas as pd\n",
    "import numpy as np\n",
    "from scipy.stats import sem\n",
    "import matplotlib.pyplot as plt\n",
    "\n",
    "# Path to the directory containing pickle files\n",
    "directory_path = '.'"
   ]
  },
  {
   "cell_type": "markdown",
   "id": "59f170f8-fe1b-4708-a6a1-c2965474035c",
   "metadata": {},
   "source": [
    "#### Original story:"
   ]
  },
  {
   "cell_type": "code",
   "execution_count": null,
   "id": "a88154b8-18b2-4ece-bc19-d3a1f4694c31",
   "metadata": {},
   "outputs": [],
   "source": [
    "# Bartlett story\n",
    "bartlett = \"\"\"One night two young men from Egulac went down to the river to hunt seals and while they were there it became foggy and calm. Then they heard war-cries, and they thought: \"Maybe this is a war-party\". They escaped to the shore, and hid behind a log. Now canoes came up, and they heard the noise of paddles, and saw one canoe coming up to them. There were five men in the canoe, and they said:\n",
    "\"What do you think? We wish to take you along. We are going up the river to make war on the people.\"\n",
    "One of the young men said,\"I have no arrows.\"\n",
    "\"Arrows are in the canoe,\" they said.\n",
    "\"I will not go along. I might be killed. My relatives do not know where I have gone. But you,\" he said, turning to the other, \"may go with them.\"\n",
    "So one of the young men went, but the other returned home.\n",
    "And the warriors went on up the river to a town on the other side of Kalama. The people came down to the water and they began to fight, and many were killed. But presently the young man heard one of the warriors say, \"Quick, let us go home: that man has been hit.\" Now he thought: \"Oh, they are ghosts.\" He did not feel sick, but they said he had been shot.\n",
    "So the canoes went back to Egulac and the young man went ashore to his house and made a fire. And he told everybody and said: \"Behold I accompanied the ghosts, and we went to fight. Many of our fellows were killed, and many of those who attacked us were killed. They said I was hit, and I did not feel sick.\"\n",
    "He told it all, and then he became quiet. When the sun rose he fell down. Something black came out of his mouth. His face became contorted. The people jumped up and cried.\n",
    "He was dead.\"\"\""
   ]
  },
  {
   "cell_type": "markdown",
   "id": "d67bce00-1ff5-4a48-87ea-da41ffa222ff",
   "metadata": {},
   "source": [
    "#### Generate wordclouds"
   ]
  },
  {
   "cell_type": "code",
   "execution_count": null,
   "id": "136b46b5-d22f-49cd-980b-46d01a0d3e70",
   "metadata": {},
   "outputs": [],
   "source": [
    "records = []\n",
    "\n",
    "# Function to load data from a pickle file\n",
    "def load_pickle_data(filepath):\n",
    "    with open(filepath, 'rb') as file:\n",
    "        data = pickle.load(file)\n",
    "    return data\n",
    "\n",
    "# Read and combine data from all pickle files in the directory\n",
    "for filename in os.listdir(directory_path):\n",
    "    if filename.endswith('.pkl'):  # Ensures that we are reading only pickle files\n",
    "        file_path = os.path.join(directory_path, filename)\n",
    "        data = load_pickle_data(file_path)\n",
    "        print(filename)\n",
    "        print(data.keys())\n",
    "        print([k for k, v in data.items() if len(v)])\n",
    "\n",
    "        for category in ['Universe', 'Politics', 'Health', 'Sport', 'Technology', 'Nature']:\n",
    "            ckpts = sorted(data[category], key=lambda name: int(name.split('-')[-1]))\n",
    "            epoch_map = {ck: i+1 for i, ck in enumerate(ckpts)}\n",
    "            for ckpt in data[category]:\n",
    "                for temp in [0, 0.5, 1, 1.5]:\n",
    "                    # Extend the list of strings for this category and temperature\n",
    "                    if type(data[category][ckpt][temp]) == str:\n",
    "                        records.append({\n",
    "                            'topic': category,\n",
    "                            'epoch': epoch_map[ckpt],\n",
    "                            'temp': temp,\n",
    "                            'text': data[category][ckpt][temp]\n",
    "                        })\n",
    "                    else:\n",
    "                        for story in data[category][ckpt][temp]:\n",
    "                            records.append({\n",
    "                                'topic': category,\n",
    "                                'epoch': epoch_map[ckpt],\n",
    "                                'temp': temp,\n",
    "                                'text': story\n",
    "                            })\n",
    "\n",
    "df = pd.DataFrame(records)"
   ]
  },
  {
   "cell_type": "code",
   "execution_count": null,
   "id": "c8a19a01-8811-4708-9609-a0c8bdfab34c",
   "metadata": {},
   "outputs": [],
   "source": [
    "from wordcloud import WordCloud\n",
    "import matplotlib.pyplot as plt\n",
    "import numpy as np\n",
    "import string as stringp\n",
    "\n",
    "def plot_wordclouds(\n",
    "    df,\n",
    "    topics=None,\n",
    "    temps=None,\n",
    "    exclusion_text=bartlett,\n",
    "    flip=False\n",
    "):\n",
    "    # figure out which topics / temps to use\n",
    "    if topics is None:\n",
    "        topics = sorted(df['topic'].unique())\n",
    "    if temps is None:\n",
    "        temps = sorted(df['temp'].unique())\n",
    "\n",
    "    # build exclusion set\n",
    "    excl = exclusion_text.translate(\n",
    "        str.maketrans(stringp.punctuation, ' ' * len(stringp.punctuation))\n",
    "    ).lower().split()\n",
    "    exclusion_words = set(excl + ['s'])  # keep your extra tokens\n",
    "    \n",
    "    # prep subplots\n",
    "    n_rows = len(temps)\n",
    "    n_cols = len(topics)\n",
    "    if flip:\n",
    "        fig, axs = plt.subplots(n_cols, n_rows,\n",
    "                                figsize=(n_cols * 5, n_rows * 5))\n",
    "    else:\n",
    "        fig, axs = plt.subplots(n_rows, n_cols,\n",
    "                                figsize=(n_cols * 5, n_rows * 5))\n",
    "    axs = np.atleast_2d(axs)\n",
    "    plt.tight_layout(pad=3.0)\n",
    "\n",
    "    def preprocess(text):\n",
    "        txt = text.translate(\n",
    "            str.maketrans(stringp.punctuation, ' ' * len(stringp.punctuation))\n",
    "        ).lower().split()\n",
    "        return ' '.join(w for w in txt if w not in exclusion_words)\n",
    "\n",
    "    for col, topic in enumerate(topics):\n",
    "        for row, temp in enumerate(temps):\n",
    "            # grab all the recalls for this topic+temp\n",
    "            sub = df[(df['topic'] == topic) & (df['temp'] == temp)]\n",
    "            # join them, truncate to original‐length+margin if you like\n",
    "            joined = ' '.join(s[:800] for s in sub['text'])\n",
    "            proc = preprocess(joined)\n",
    "            if not proc:\n",
    "                continue\n",
    "\n",
    "            wc = WordCloud(\n",
    "                width=400,\n",
    "                height=400,\n",
    "                relative_scaling=0.5,\n",
    "                normalize_plurals=False,\n",
    "                max_font_size=60,\n",
    "                background_color='white',\n",
    "                colormap='plasma'\n",
    "            ).generate(proc)\n",
    "\n",
    "            ax = axs[col, row] if flip else axs[row, col]\n",
    "            ax.imshow(wc, interpolation='bilinear')\n",
    "            ax.axis('off')\n",
    "            ax.set_title(f\"{topic}  –  temp={temp}\")\n",
    "\n",
    "    plt.savefig('wordcloud.png', dpi=300)\n",
    "    plt.show()\n"
   ]
  },
  {
   "cell_type": "code",
   "execution_count": null,
   "id": "d4a3b1f2-9190-46ab-9fb1-8db9a8e05d94",
   "metadata": {},
   "outputs": [],
   "source": [
    "topics = ['Universe', 'Politics', 'Health', 'Sport', 'Technology', 'Nature']\n",
    "temps  = [0, 0.5, 1.0, 1.5]\n",
    "plot_wordclouds(df, topics=topics, temps=temps, flip=False)"
   ]
  }
 ],
 "metadata": {
  "kernelspec": {
   "display_name": "Python 3 (ipykernel)",
   "language": "python",
   "name": "python3"
  },
  "language_info": {
   "codemirror_mode": {
    "name": "ipython",
    "version": 3
   },
   "file_extension": ".py",
   "mimetype": "text/x-python",
   "name": "python",
   "nbconvert_exporter": "python",
   "pygments_lexer": "ipython3",
   "version": "3.11.5"
  }
 },
 "nbformat": 4,
 "nbformat_minor": 5
}
